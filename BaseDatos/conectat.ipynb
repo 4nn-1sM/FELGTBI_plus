{
 "cells": [
  {
   "cell_type": "markdown",
   "metadata": {},
   "source": [
    "# Bibliotecas"
   ]
  },
  {
   "cell_type": "code",
   "execution_count": 25,
   "metadata": {},
   "outputs": [],
   "source": [
    "import psycopg2\n",
    "from psycopg2.extras import DictCursor\n",
    "\n",
    "import os\n",
    "from dotenv import load_dotenv"
   ]
  },
  {
   "cell_type": "markdown",
   "metadata": {},
   "source": [
    "## Conexión"
   ]
  },
  {
   "cell_type": "code",
   "execution_count": 26,
   "metadata": {},
   "outputs": [
    {
     "data": {
      "text/plain": [
       "True"
      ]
     },
     "execution_count": 26,
     "metadata": {},
     "output_type": "execute_result"
    }
   ],
   "source": [
    "#Cargar Variables De Entorno:\n",
    "load_dotenv()\n",
    "\n",
    "#Leer Las Variables:\n",
    "# host = os.getenv(\"HOST\")\n",
    "# username = os.getenv(\"USERNAME\")\n",
    "# password = os.getenv(\"PASSWORD\")\n",
    "# database = os.getenv(\"DATABASE\")\n",
    "# port = os.getenv(\"PORT\")"
   ]
  },
  {
   "cell_type": "code",
   "execution_count": 27,
   "metadata": {},
   "outputs": [
    {
     "name": "stdout",
     "output_type": "stream",
     "text": [
      "\n",
      "Jjaavviieerroperro\n",
      "d3sAf10_7riPulAc10n3s!\n",
      "FELGTBIplus\n",
      "5432\n"
     ]
    }
   ],
   "source": [
    "#Prueba:\n",
    "print(host)\n",
    "print(username)\n",
    "print(password)\n",
    "print(database)\n",
    "print(port)\n"
   ]
  },
  {
   "cell_type": "code",
   "execution_count": 28,
   "metadata": {},
   "outputs": [
    {
     "name": "stdout",
     "output_type": "stream",
     "text": [
      "Error al conectar a PostgreSQL: invalid dsn: invalid connection option \"username\"\n",
      "\n"
     ]
    }
   ],
   "source": [
    "try:\n",
    "    db = psycopg2.connect(host=\"\",\n",
    "                          password=\"\",\n",
    "                          dbname=\"\",\n",
    "                          username=\"\",\n",
    "                          port=\"\",\n",
    "                          cursor_factory=DictCursor)\n",
    "\n",
    "    print(\"Conexión exitosa a PostgreSQL\")\n",
    "    \n",
    "except psycopg2.Error as e:\n",
    "    print(f\"Error al conectar a PostgreSQL: {e}\")"
   ]
  }
 ],
 "metadata": {
  "kernelspec": {
   "display_name": "Python 3",
   "language": "python",
   "name": "python3"
  },
  "language_info": {
   "codemirror_mode": {
    "name": "ipython",
    "version": 3
   },
   "file_extension": ".py",
   "mimetype": "text/x-python",
   "name": "python",
   "nbconvert_exporter": "python",
   "pygments_lexer": "ipython3",
   "version": "3.12.5"
  }
 },
 "nbformat": 4,
 "nbformat_minor": 2
}
